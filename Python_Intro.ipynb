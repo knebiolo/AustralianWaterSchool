{
 "cells": [
  {
   "cell_type": "markdown",
   "metadata": {
    "slideshow": {
     "slide_type": "slide"
    }
   },
   "source": [
    "# Python Scripting for Water Modellers \n",
    "## Australian Water School\n",
    "---\n",
    "Kevin Nebiolo, PhD. <br>\n",
    "Kleinschmidt Group <br>\n",
    "November 4, 2020 "
   ]
  },
  {
   "cell_type": "markdown",
   "metadata": {
    "slideshow": {
     "slide_type": "slide"
    }
   },
   "source": [
    "# Contents\n",
    "<ol>\n",
    "    <li>What is Python?</li>\n",
    "    <li>Where to go for help</li>\n",
    "    <li>Easiest Way to Start</li>\n",
    "    <li>Data Types and Structures</li>\n",
    "    <li>Program Flow</li>\n",
    "    <li>Modules Useful for Water Resources</li>\n",
    "    <li>Example</li>\n",
    "</ol>\n",
    "\n",
    "---"
   ]
  },
  {
   "cell_type": "markdown",
   "metadata": {
    "slideshow": {
     "slide_type": "slide"
    }
   },
   "source": [
    "# Part 1: Introduction to Python"
   ]
  },
  {
   "cell_type": "markdown",
   "metadata": {
    "slideshow": {
     "slide_type": "slide"
    }
   },
   "source": [
    "# What is Python? \n",
    "- Powerful object-oriented open-source easily-extendable programming language\n",
    "- Elegant, almonst natural language syntax that makes code readable\n",
    "- Interpretated language - each line of code is read and converted to machine code rather than compiled - makes it easy to prototype\n",
    "- Runs on all desktop OS"
   ]
  },
  {
   "cell_type": "markdown",
   "metadata": {
    "slideshow": {
     "slide_type": "slide"
    }
   },
   "source": [
    "# Where to go for Help?\n",
    "[Python](https://www.python.org/)<br>\n",
    "Online courses like [codecademy](https://www.codecademy.com/catalog/language/python?g_acctid=243-039-7011&g_keywordid=kwd-6533013805&g_adid=434619800071&g_keyword=python%20online%20course&g_campaign=US+Language%3A+Basic+-+Exact&g_adtype=search&g_network=g&g_adgroupid=102526215538&g_campaignid=10030170703&utm_id=t_kwd-6533013805:ag_102526215538:cp_10030170703:n_g:d_c&utm_term=python%20online%20course&utm_campaign=US%20Language%3A%20Basic%20-%20Exact&utm_source=google&utm_medium=paid-search&utm_content=434619800071&hsa_acc=2430397011&hsa_cam=10030170703&hsa_grp=102526215538&hsa_ad=434619800071&hsa_src=g&hsa_tgt=kwd-6533013805&hsa_kw=python%20online%20course&hsa_mt=e&hsa_net=adwords&hsa_ver=3&gclid=Cj0KCQjwhvf6BRCkARIsAGl1GGgtuCoJ0kxJLX0o1v4FQtXXs3-ZizM4j54k1GqmO6OLrvfIbDBJOHwaAs40EALw_wcB) and [Udemy](https://www.udemy.com/topic/python/?utm_source=adwords&utm_medium=udemyads&utm_campaign=Branded-Topic_la.EN_cc.US&utm_content=deal4584&utm_term=_._ag_79612132259_._ad_387769071010_._kw_udemy%20python_._de_c_._dm__._pl__._ti_kwd-314742262049_._li_9003250_._pd__._&matchtype=e&gclid=Cj0KCQjwhvf6BRCkARIsAGl1GGh63UO04FHiTiYOl3i1T-vZoan7H9wb07FsShfZGnTBcC-UuIiS5jcaAmipEALw_wcB)<br>\n",
    "Online forums like [stackoverflow](https://stackoverflow.com/questions/tagged/python)<br>\n",
    "\n",
    "---"
   ]
  },
  {
   "cell_type": "markdown",
   "metadata": {
    "slideshow": {
     "slide_type": "slide"
    }
   },
   "source": [
    "# Easiest Way to Start\n",
    "For data science applications: [Anaconda Individual Edition](https://www.anaconda.com/products/individual)\n",
    "- open source\n",
    "- easy to manage environments (ArcGIS Pro, R)\n",
    "- easy to manage packages with conda\n",
    "- access to the SPYDER IDE, advanced editing, tab completion, interactive testing, debugging and introspection features, variable inspection, etc.\n",
    "- access to Jupyter Notebook environment\n",
    "\n",
    "---"
   ]
  },
  {
   "cell_type": "markdown",
   "metadata": {
    "slideshow": {
     "slide_type": "slide"
    }
   },
   "source": [
    "# Part II: Python Syntax"
   ]
  },
  {
   "cell_type": "markdown",
   "metadata": {
    "slideshow": {
     "slide_type": "slide"
    }
   },
   "source": [
    "# Language Structures\n",
    "- Python syntax has structures that are equivalent to English\n",
    "\n",
    "|English|Python|\n",
    "|:--|:--|\n",
    "|Sentence|**Statement** - complete computer instruction|\n",
    "|Noun|**Object** - any piece of data|\n",
    "|Adjective|**Property** - describes an object|\n",
    "|Verb|**Method** - action an object can take|\n",
    "    \n",
    "    \n",
    "    \n"
   ]
  },
  {
   "cell_type": "markdown",
   "metadata": {
    "slideshow": {
     "slide_type": "slide"
    }
   },
   "source": [
    "## Variables\n",
    "- names that are given to objects\n",
    "- when the variable statement is run:\n",
    "    - named object exists in RAM until we remove it with del command **be careful of how much stuff you put there!**\n",
    "    - **variable substitution** , i.e. insert variable (and the object it represents) into mathematical equations, etc..\n",
    "    - reuse variable as many times as we want and we can update it\n",
    "- to create a variable:\n",
    "    - specify the variable name\n",
    "    - follow with equal sign \n",
    "    - followed by definition\n"
   ]
  },
  {
   "cell_type": "code",
   "execution_count": 1,
   "metadata": {
    "slideshow": {
     "slide_type": "-"
    }
   },
   "outputs": [
    {
     "name": "stdout",
     "output_type": "stream",
     "text": [
      "Australia\n"
     ]
    }
   ],
   "source": [
    "country = \"Australia\"\n",
    "print(country)"
   ]
  },
  {
   "cell_type": "markdown",
   "metadata": {
    "slideshow": {
     "slide_type": "subslide"
    }
   },
   "source": [
    "### Rules for Naming Objects\n",
    "- cAse MaTTeRs\n",
    "- must start with a letter or underscore\n",
    "- can contain letters, digits, or underscores\n",
    "- no spaces\n",
    "- no reserved words\n",
    "    - e.g.: and, or, del, for, if, print, try, except\n",
    "- no quotes - text in quotes is a string\n",
    "- no special characters\n",
    "    - e.g.: !,@,#,$,%,^,&,*,(,),~"
   ]
  },
  {
   "cell_type": "markdown",
   "metadata": {
    "slideshow": {
     "slide_type": "subslide"
    }
   },
   "source": [
    "### Working with Variables \n",
    "- use **variables** within a **statement** instead of the **object** itself\n",
    "- reconstruct complex mathematical expressions with variables"
   ]
  },
  {
   "cell_type": "code",
   "execution_count": 2,
   "metadata": {
    "slideshow": {
     "slide_type": "-"
    }
   },
   "outputs": [
    {
     "data": {
      "text/plain": [
       "17"
      ]
     },
     "execution_count": 2,
     "metadata": {},
     "output_type": "execute_result"
    }
   ],
   "source": [
    "x = 5\n",
    "y = 12\n",
    "x + y"
   ]
  },
  {
   "cell_type": "markdown",
   "metadata": {
    "slideshow": {
     "slide_type": "slide"
    }
   },
   "source": [
    "# Basic Data Types \n",
    "## Numbers\n",
    "- integers: whole numbers\n",
    "- float: decimal numbers\n",
    "- expressions can include floats and integers, output is most complex\n",
    "- Packages like [numpy](https://numpy.org/), [scipy](https://www.scipy.org/), and [sympy](https://docs.sympy.org/latest/index.html) offer other number types inlcuding boolean, complex numbers, arrays and matrices"
   ]
  },
  {
   "cell_type": "markdown",
   "metadata": {
    "slideshow": {
     "slide_type": "subslide"
    }
   },
   "source": [
    "Float and Integer results in a Float"
   ]
  },
  {
   "cell_type": "code",
   "execution_count": 3,
   "metadata": {
    "scrolled": true,
    "slideshow": {
     "slide_type": "-"
    }
   },
   "outputs": [
    {
     "data": {
      "text/plain": [
       "6.5"
      ]
     },
     "execution_count": 3,
     "metadata": {},
     "output_type": "execute_result"
    }
   ],
   "source": [
    "5 + 1.5 "
   ]
  },
  {
   "cell_type": "markdown",
   "metadata": {
    "slideshow": {
     "slide_type": "-"
    }
   },
   "source": [
    "Integer and Integer results in an Integer"
   ]
  },
  {
   "cell_type": "code",
   "execution_count": 4,
   "metadata": {
    "slideshow": {
     "slide_type": "-"
    }
   },
   "outputs": [
    {
     "data": {
      "text/plain": [
       "10"
      ]
     },
     "execution_count": 4,
     "metadata": {},
     "output_type": "execute_result"
    }
   ],
   "source": [
    "5 + 5"
   ]
  },
  {
   "cell_type": "markdown",
   "metadata": {
    "slideshow": {
     "slide_type": "subslide"
    }
   },
   "source": [
    "### Number Operations"
   ]
  },
  {
   "cell_type": "code",
   "execution_count": 5,
   "metadata": {
    "scrolled": true,
    "slideshow": {
     "slide_type": "-"
    }
   },
   "outputs": [
    {
     "data": {
      "text/plain": [
       "5"
      ]
     },
     "execution_count": 5,
     "metadata": {},
     "output_type": "execute_result"
    }
   ],
   "source": [
    "3 + 2"
   ]
  },
  {
   "cell_type": "code",
   "execution_count": 6,
   "metadata": {
    "slideshow": {
     "slide_type": "-"
    }
   },
   "outputs": [
    {
     "data": {
      "text/plain": [
       "1"
      ]
     },
     "execution_count": 6,
     "metadata": {},
     "output_type": "execute_result"
    }
   ],
   "source": [
    "3 - 2"
   ]
  },
  {
   "cell_type": "code",
   "execution_count": 7,
   "metadata": {
    "slideshow": {
     "slide_type": "-"
    }
   },
   "outputs": [
    {
     "data": {
      "text/plain": [
       "3.6666666666666665"
      ]
     },
     "execution_count": 7,
     "metadata": {},
     "output_type": "execute_result"
    }
   ],
   "source": [
    "11.0 / 3"
   ]
  },
  {
   "cell_type": "code",
   "execution_count": 8,
   "metadata": {
    "slideshow": {
     "slide_type": "-"
    }
   },
   "outputs": [
    {
     "data": {
      "text/plain": [
       "3.0"
      ]
     },
     "execution_count": 8,
     "metadata": {},
     "output_type": "execute_result"
    }
   ],
   "source": [
    "11.0 // 3"
   ]
  },
  {
   "cell_type": "code",
   "execution_count": 9,
   "metadata": {
    "slideshow": {
     "slide_type": "-"
    }
   },
   "outputs": [
    {
     "data": {
      "text/plain": [
       "9"
      ]
     },
     "execution_count": 9,
     "metadata": {},
     "output_type": "execute_result"
    }
   ],
   "source": [
    "3 * 3"
   ]
  },
  {
   "cell_type": "code",
   "execution_count": 10,
   "metadata": {
    "slideshow": {
     "slide_type": "-"
    }
   },
   "outputs": [
    {
     "data": {
      "text/plain": [
       "27"
      ]
     },
     "execution_count": 10,
     "metadata": {},
     "output_type": "execute_result"
    }
   ],
   "source": [
    "3 ** 3"
   ]
  },
  {
   "cell_type": "markdown",
   "metadata": {
    "slideshow": {
     "slide_type": "slide"
    }
   },
   "source": [
    "## Strings\n",
    "- strings are anything enclosed by quotes, treated as text\n",
    "- can contain letters, symbols, and numbers\n",
    "- single or double quotes are fine, but be consistent\n"
   ]
  },
  {
   "cell_type": "code",
   "execution_count": 38,
   "metadata": {
    "slideshow": {
     "slide_type": "-"
    }
   },
   "outputs": [
    {
     "name": "stdout",
     "output_type": "stream",
     "text": [
      "believe it or not, this is a string\n"
     ]
    }
   ],
   "source": [
    "str1 = \"believe it or not, this is a string\"\n",
    "print (str1)"
   ]
  },
  {
   "cell_type": "markdown",
   "metadata": {
    "slideshow": {
     "slide_type": "subslide"
    }
   },
   "source": [
    "### String Formatting\n",
    "- backslashes \\ have a special signficance as they initiate formatting commands\n",
    "- backslash followed by a letter specifies the command to be performed\n",
    "- ex: \\n and \\t"
   ]
  },
  {
   "cell_type": "markdown",
   "metadata": {
    "slideshow": {
     "slide_type": "subslide"
    }
   },
   "source": [
    "\\n starts a new line"
   ]
  },
  {
   "cell_type": "code",
   "execution_count": 11,
   "metadata": {
    "scrolled": false,
    "slideshow": {
     "slide_type": "-"
    }
   },
   "outputs": [
    {
     "name": "stdout",
     "output_type": "stream",
     "text": [
      "line 1 \n",
      "line 2\n"
     ]
    }
   ],
   "source": [
    "print (\"line 1 \\nline 2\")"
   ]
  },
  {
   "cell_type": "markdown",
   "metadata": {
    "slideshow": {
     "slide_type": "-"
    }
   },
   "source": [
    "\\t inserts a tab"
   ]
  },
  {
   "cell_type": "code",
   "execution_count": 12,
   "metadata": {
    "slideshow": {
     "slide_type": "-"
    }
   },
   "outputs": [
    {
     "name": "stdout",
     "output_type": "stream",
     "text": [
      "\tline 1 \n",
      "line2\n"
     ]
    }
   ],
   "source": [
    "print (\"\\tline 1 \\nline2\")"
   ]
  },
  {
   "cell_type": "markdown",
   "metadata": {
    "slideshow": {
     "slide_type": "subslide"
    }
   },
   "source": [
    "### Disabling String Formatting \n",
    "- file pathnames use backslashes in directories!\n",
    "- place an **r** in front of the string\n",
    "- use \\ \\ instead of \\"
   ]
  },
  {
   "cell_type": "markdown",
   "metadata": {
    "slideshow": {
     "slide_type": "subslide"
    }
   },
   "source": [
    "### Sequences \n",
    "- sequences are ordered collections of items (like characters)\n",
    "- strings are sequences\n",
    "- characters can be retrieved from a sequence by specifying the position\n",
    "- python starts counting at zero"
   ]
  },
  {
   "cell_type": "markdown",
   "metadata": {
    "slideshow": {
     "slide_type": "subslide"
    }
   },
   "source": [
    "### Retrieving Characters from a String"
   ]
  },
  {
   "cell_type": "code",
   "execution_count": 13,
   "metadata": {
    "slideshow": {
     "slide_type": "-"
    }
   },
   "outputs": [
    {
     "data": {
      "text/plain": [
       "'T'"
      ]
     },
     "execution_count": 13,
     "metadata": {},
     "output_type": "execute_result"
    }
   ],
   "source": [
    "name = \"Tim Smith\"\n",
    "\n",
    "# retrieve single character\n",
    "name[0]"
   ]
  },
  {
   "cell_type": "code",
   "execution_count": 14,
   "metadata": {
    "slideshow": {
     "slide_type": "-"
    }
   },
   "outputs": [
    {
     "data": {
      "text/plain": [
       "'Tim'"
      ]
     },
     "execution_count": 14,
     "metadata": {},
     "output_type": "execute_result"
    }
   ],
   "source": [
    "# or retrieve multiple characters\n",
    "name[0:3]"
   ]
  },
  {
   "cell_type": "code",
   "execution_count": 15,
   "metadata": {
    "slideshow": {
     "slide_type": "-"
    }
   },
   "outputs": [
    {
     "data": {
      "text/plain": [
       "'Smith'"
      ]
     },
     "execution_count": 15,
     "metadata": {},
     "output_type": "execute_result"
    }
   ],
   "source": [
    "name[-5:]"
   ]
  },
  {
   "cell_type": "markdown",
   "metadata": {
    "slideshow": {
     "slide_type": "subslide"
    }
   },
   "source": [
    "### String Methods"
   ]
  },
  {
   "cell_type": "code",
   "execution_count": 16,
   "metadata": {
    "slideshow": {
     "slide_type": "-"
    }
   },
   "outputs": [
    {
     "data": {
      "text/plain": [
       "'tim smith'"
      ]
     },
     "execution_count": 16,
     "metadata": {},
     "output_type": "execute_result"
    }
   ],
   "source": [
    "\n",
    "name.lower()"
   ]
  },
  {
   "cell_type": "code",
   "execution_count": 17,
   "metadata": {},
   "outputs": [
    {
     "data": {
      "text/plain": [
       "'TIM SMITH'"
      ]
     },
     "execution_count": 17,
     "metadata": {},
     "output_type": "execute_result"
    }
   ],
   "source": [
    "name.upper()"
   ]
  },
  {
   "cell_type": "code",
   "execution_count": 18,
   "metadata": {},
   "outputs": [
    {
     "data": {
      "text/plain": [
       "'Tim Cooper'"
      ]
     },
     "execution_count": 18,
     "metadata": {},
     "output_type": "execute_result"
    }
   ],
   "source": [
    "name.replace('Smith','Cooper')"
   ]
  },
  {
   "cell_type": "code",
   "execution_count": 19,
   "metadata": {},
   "outputs": [
    {
     "data": {
      "text/plain": [
       "['Tim', 'Smith']"
      ]
     },
     "execution_count": 19,
     "metadata": {},
     "output_type": "execute_result"
    }
   ],
   "source": [
    "name.split(' ')"
   ]
  },
  {
   "cell_type": "markdown",
   "metadata": {
    "slideshow": {
     "slide_type": "slide"
    }
   },
   "source": [
    "# Data Collections\n",
    "- create data object when script is run, exists in RAM \n",
    "- basic python collections: \n",
    "    - lists, dictionaries, tuples, set\n",
    "- advanced data structures (Numpy, Scipy, Pandas):\n",
    "    - arrays, matrices, dataframes"
   ]
  },
  {
   "cell_type": "markdown",
   "metadata": {
    "slideshow": {
     "slide_type": "slide"
    }
   },
   "source": [
    "## Lists\n",
    "- lists are containers for objects separated by comma and enclosed with brackets\n",
    "- objects are ordered, but changeable\n",
    "- data types can be mixed and don't have to be unique\n"
   ]
  },
  {
   "cell_type": "code",
   "execution_count": 20,
   "metadata": {
    "slideshow": {
     "slide_type": "-"
    }
   },
   "outputs": [
    {
     "name": "stdout",
     "output_type": "stream",
     "text": [
      "[1, 'a', 3, 4, 4]\n"
     ]
    }
   ],
   "source": [
    "l1 = [1, \"a\", 3, 4, 4]\n",
    "print (l1)"
   ]
  },
  {
   "cell_type": "markdown",
   "metadata": {
    "slideshow": {
     "slide_type": "-"
    }
   },
   "source": [
    "- lists are sequences - we can retrieve items by specifying position"
   ]
  },
  {
   "cell_type": "code",
   "execution_count": 21,
   "metadata": {},
   "outputs": [
    {
     "name": "stdout",
     "output_type": "stream",
     "text": [
      "3\n"
     ]
    }
   ],
   "source": [
    "print (l1[2])"
   ]
  },
  {
   "cell_type": "markdown",
   "metadata": {
    "slideshow": {
     "slide_type": "subslide"
    }
   },
   "source": [
    "## Building Lists\n",
    "- lists can be built all at once"
   ]
  },
  {
   "cell_type": "code",
   "execution_count": 22,
   "metadata": {
    "scrolled": true,
    "slideshow": {
     "slide_type": "-"
    }
   },
   "outputs": [
    {
     "name": "stdout",
     "output_type": "stream",
     "text": [
      "[1, 2, 3, 4]\n"
     ]
    }
   ],
   "source": [
    "l2 = [1,2,3,4]\n",
    "print (l2)"
   ]
  },
  {
   "cell_type": "markdown",
   "metadata": {
    "slideshow": {
     "slide_type": "-"
    }
   },
   "source": [
    "- we can add stuff to the list with an append"
   ]
  },
  {
   "cell_type": "code",
   "execution_count": 23,
   "metadata": {
    "scrolled": true,
    "slideshow": {
     "slide_type": "-"
    }
   },
   "outputs": [
    {
     "name": "stdout",
     "output_type": "stream",
     "text": [
      "[1, 2, 3, 4, 'puppy']\n"
     ]
    }
   ],
   "source": [
    "l2.append(\"puppy\")\n",
    "print (l2)"
   ]
  },
  {
   "cell_type": "markdown",
   "metadata": {
    "slideshow": {
     "slide_type": "-"
    }
   },
   "source": [
    "- we can insert items into a list at any position"
   ]
  },
  {
   "cell_type": "code",
   "execution_count": 24,
   "metadata": {
    "slideshow": {
     "slide_type": "-"
    }
   },
   "outputs": [
    {
     "name": "stdout",
     "output_type": "stream",
     "text": [
      "[1, 2, 3, 'red', 4, 'puppy']\n"
     ]
    }
   ],
   "source": [
    "l2.insert(3,\"red\")\n",
    "print (l2)"
   ]
  },
  {
   "cell_type": "markdown",
   "metadata": {
    "slideshow": {
     "slide_type": "subslide"
    }
   },
   "source": [
    "### Deleting Items from a list"
   ]
  },
  {
   "cell_type": "code",
   "execution_count": 25,
   "metadata": {
    "slideshow": {
     "slide_type": "-"
    }
   },
   "outputs": [
    {
     "name": "stdout",
     "output_type": "stream",
     "text": [
      "[1, 3, 'red', 4, 'puppy']\n"
     ]
    }
   ],
   "source": [
    "del l2[1]\n",
    "print (l2)\n"
   ]
  },
  {
   "cell_type": "markdown",
   "metadata": {
    "slideshow": {
     "slide_type": "-"
    }
   },
   "source": [
    "[follow this link for all list methods](https://docs.python.org/3/tutorial/datastructures.html#more-on-lists)"
   ]
  },
  {
   "cell_type": "markdown",
   "metadata": {
    "slideshow": {
     "slide_type": "slide"
    }
   },
   "source": [
    "## Dictionaries\n",
    "- collection of objects that is unordered, changeable, and indexed\n",
    "- enclosed with curly brackets and with colon separating key from its value\n",
    "- no duplicate keys"
   ]
  },
  {
   "cell_type": "code",
   "execution_count": 26,
   "metadata": {
    "slideshow": {
     "slide_type": "-"
    }
   },
   "outputs": [
    {
     "name": "stdout",
     "output_type": "stream",
     "text": [
      "{'make': 'Ford', 'model': 'Mustang', 'year': 1964}\n"
     ]
    }
   ],
   "source": [
    "car_1 = {'make':'Ford',\n",
    "        'model':'Mustang',\n",
    "        'year':1964}\n",
    "print(car_1)"
   ]
  },
  {
   "cell_type": "markdown",
   "metadata": {
    "slideshow": {
     "slide_type": "subslide"
    }
   },
   "source": [
    "Accessing dictionary value with key"
   ]
  },
  {
   "cell_type": "code",
   "execution_count": 27,
   "metadata": {
    "slideshow": {
     "slide_type": "-"
    }
   },
   "outputs": [
    {
     "name": "stdout",
     "output_type": "stream",
     "text": [
      "Ford\n"
     ]
    }
   ],
   "source": [
    "print (car_1['make'])"
   ]
  },
  {
   "cell_type": "markdown",
   "metadata": {
    "slideshow": {
     "slide_type": "-"
    }
   },
   "source": [
    "Change value"
   ]
  },
  {
   "cell_type": "code",
   "execution_count": 28,
   "metadata": {
    "slideshow": {
     "slide_type": "-"
    }
   },
   "outputs": [
    {
     "name": "stdout",
     "output_type": "stream",
     "text": [
      "{'make': 'Ford', 'model': 'Mustang', 'year': 2018}\n"
     ]
    }
   ],
   "source": [
    "car_1['year'] = 2018\n",
    "print (car_1)"
   ]
  },
  {
   "cell_type": "markdown",
   "metadata": {
    "slideshow": {
     "slide_type": "slide"
    }
   },
   "source": [
    "## Tuples\n",
    "- container of objects separated with comma and enclosed in parantheses\n",
    "- immutable - canoot be iterated over whereas you can iterate over items in a list"
   ]
  },
  {
   "cell_type": "code",
   "execution_count": 29,
   "metadata": {
    "slideshow": {
     "slide_type": "-"
    }
   },
   "outputs": [
    {
     "name": "stdout",
     "output_type": "stream",
     "text": [
      "(100, 200)\n"
     ]
    }
   ],
   "source": [
    "pos = (100,200)\n",
    "print (pos)"
   ]
  },
  {
   "cell_type": "markdown",
   "metadata": {
    "slideshow": {
     "slide_type": "slide"
    }
   },
   "source": [
    "## Sets\n",
    "- unordered collection of objects separated by comma and enclosed by brackets\n",
    "- primarily used to eliminate duplicate entries"
   ]
  },
  {
   "cell_type": "code",
   "execution_count": 30,
   "metadata": {
    "slideshow": {
     "slide_type": "-"
    }
   },
   "outputs": [
    {
     "name": "stdout",
     "output_type": "stream",
     "text": [
      "{'orange', 'apple', 'banana', 'pear'}\n"
     ]
    }
   ],
   "source": [
    "l3 = ['apple', 'orange', 'apple', 'pear', 'orange', 'banana']\n",
    "l3_set = set(l3)\n",
    "print (l3_set)"
   ]
  },
  {
   "cell_type": "markdown",
   "metadata": {
    "slideshow": {
     "slide_type": "slide"
    }
   },
   "source": [
    "# Program Flow\n",
    "## Loops\n",
    "- a loop is a set of statements that repeats until a condition is met \n",
    "- loops repeat until...\n",
    "    - each item in a list or key in dictionary has been iterated over (for loop)\n",
    "    - a certain condition is met (while loop)\n",
    "- loops are **compound statements**\n"
   ]
  },
  {
   "cell_type": "markdown",
   "metadata": {
    "slideshow": {
     "slide_type": "subslide"
    }
   },
   "source": [
    "## Compound Statements\n",
    "- statements that consist of multiple lines of code (loops, functions, classes, etc)\n",
    "- 1st line is header line, ends in colon\n",
    "- lines following header are **indented**\n",
    "    - indicates that line is associated with the header\n",
    "- consistent indentation is required"
   ]
  },
  {
   "cell_type": "markdown",
   "metadata": {
    "slideshow": {
     "slide_type": "subslide"
    }
   },
   "source": [
    "## for loops\n",
    "- for loops iterate over items in a list or keys in a dictionary to perform a task\n",
    "- the task runs once for each item \n",
    "- in each iteration...\n",
    "    - an item from is assigned to a variable (ex. i)\n",
    "    - indented statements run and carry out some action on i"
   ]
  },
  {
   "cell_type": "code",
   "execution_count": 31,
   "metadata": {
    "slideshow": {
     "slide_type": "-"
    }
   },
   "outputs": [
    {
     "name": "stdout",
     "output_type": "stream",
     "text": [
      "1\n",
      "10\n",
      "100\n",
      "1000\n",
      "10000\n",
      "100000\n"
     ]
    }
   ],
   "source": [
    "l3 = [0,1,2,3,4,5]\n",
    "for i in l3:\n",
    "    print (10**i)"
   ]
  },
  {
   "cell_type": "markdown",
   "metadata": {
    "slideshow": {
     "slide_type": "subslide"
    }
   },
   "source": [
    "## while loops\n",
    "- while loops use a **test condition** to determine when to stop\n",
    "- at the start of each iteration, the condition is tested\n",
    "    - if the condition is true, the loop continues\n",
    "    - if it is false, the loop ends\n",
    "- **NOTE** the variable condition should change with each iteration or the loop will never end"
   ]
  },
  {
   "cell_type": "code",
   "execution_count": 32,
   "metadata": {
    "slideshow": {
     "slide_type": "-"
    }
   },
   "outputs": [
    {
     "name": "stdout",
     "output_type": "stream",
     "text": [
      "1\n",
      "2\n",
      "3\n",
      "4\n",
      "5\n"
     ]
    }
   ],
   "source": [
    "x = 0\n",
    "while x < 5:\n",
    "    x = x + 1\n",
    "    print (x)"
   ]
  },
  {
   "cell_type": "markdown",
   "metadata": {
    "slideshow": {
     "slide_type": "slide"
    }
   },
   "source": [
    "## Decision Making\n",
    "- we can program python to make decisions based on a set of conditions\n",
    "- **if** statements allow a script to test conditions\n",
    "    - if a condition is true, then do this...\n",
    "- **if** statements are **compound statements**"
   ]
  },
  {
   "cell_type": "code",
   "execution_count": 33,
   "metadata": {
    "slideshow": {
     "slide_type": "-"
    }
   },
   "outputs": [
    {
     "name": "stdout",
     "output_type": "stream",
     "text": [
      "True\n"
     ]
    }
   ],
   "source": [
    "x = 2\n",
    "if x < 5:\n",
    "    print (\"True\")"
   ]
  },
  {
   "cell_type": "markdown",
   "metadata": {
    "slideshow": {
     "slide_type": "subslide"
    }
   },
   "source": [
    "### What if there was more than 1 criteria? - elif\n",
    "- used to perform additional tests "
   ]
  },
  {
   "cell_type": "code",
   "execution_count": 34,
   "metadata": {
    "slideshow": {
     "slide_type": "-"
    }
   },
   "outputs": [
    {
     "name": "stdout",
     "output_type": "stream",
     "text": [
      "value is less than 5\n"
     ]
    }
   ],
   "source": [
    "x = 2\n",
    "if x > 5: \n",
    "    print ('value is greater than 5')\n",
    "elif x < 5:\n",
    "    print ('value is less than 5')"
   ]
  },
  {
   "cell_type": "markdown",
   "metadata": {
    "slideshow": {
     "slide_type": "subslide"
    }
   },
   "source": [
    "### What about everything else we can't fit into either category?\n",
    "- **else** does not perform any conditional assessments, it simply identifies those categories that did not meet any other criteria\n",
    "- runs only if all preceding **if** and **elif** tests fail\n",
    "- ensures that all possible conditions are addressed"
   ]
  },
  {
   "cell_type": "code",
   "execution_count": 35,
   "metadata": {
    "slideshow": {
     "slide_type": "-"
    }
   },
   "outputs": [
    {
     "name": "stdout",
     "output_type": "stream",
     "text": [
      "the value has to be 5, what else can it be?\n"
     ]
    }
   ],
   "source": [
    "x = 5\n",
    "if x > 5: \n",
    "    print ('value is greater than 5')\n",
    "elif x < 5:\n",
    "    print ('value is less than 5')\n",
    "else:\n",
    "    print ('the value has to be 5, what else can it be?')"
   ]
  },
  {
   "cell_type": "markdown",
   "metadata": {
    "slideshow": {
     "slide_type": "subslide"
    }
   },
   "source": [
    "### Conditional Operators\n",
    "\n",
    "|Symbol|Meaning|\n",
    "|:--|:--|\n",
    "|**==**|Equal To|\n",
    "|**!=**|Not Equal To|\n",
    "|**<**|Less Than|\n",
    "|**<=**|Less Than or Equal To|\n",
    "|**>**|Greater Than|\n",
    "|**>=**|Greater Than or Equal To|\n",
    "|**and**|True if Both Conditions are True|\n",
    "|**or**|True if at least One Conditions is Met|\n",
    "|**not**|Opposite of Result|\n",
    "|**in**|Check if Object is in String or Data Collection|"
   ]
  },
  {
   "cell_type": "markdown",
   "metadata": {
    "slideshow": {
     "slide_type": "subslide"
    }
   },
   "source": [
    "### Custom Functions\n",
    "- functions allow you to reuse code that can be called upon at a later point in the script \n",
    "- compound statement preceded with the keyword **def** followed by the function name and arguments\n",
    "- the remaining statements carry out the actions of the function"
   ]
  },
  {
   "cell_type": "code",
   "execution_count": 36,
   "metadata": {
    "slideshow": {
     "slide_type": "-"
    }
   },
   "outputs": [],
   "source": [
    "def fibonacci (limit):\n",
    "    seq0 = 0\n",
    "    seq1 = 1\n",
    "    print (seq0)\n",
    "    while seq1 < limit:\n",
    "        print (seq1)\n",
    "        seq_n = seq1 + seq0\n",
    "        seq0 = seq1\n",
    "        seq1 = seq_n\n",
    "\n",
    "        "
   ]
  },
  {
   "cell_type": "code",
   "execution_count": 37,
   "metadata": {
    "slideshow": {
     "slide_type": "subslide"
    }
   },
   "outputs": [
    {
     "name": "stdout",
     "output_type": "stream",
     "text": [
      "0\n",
      "1\n",
      "1\n",
      "2\n",
      "3\n",
      "5\n",
      "8\n",
      "13\n",
      "21\n",
      "34\n",
      "55\n",
      "89\n",
      "144\n",
      "233\n",
      "377\n",
      "610\n",
      "987\n"
     ]
    }
   ],
   "source": [
    "fibonacci(1000)"
   ]
  },
  {
   "cell_type": "markdown",
   "metadata": {
    "slideshow": {
     "slide_type": "slide"
    }
   },
   "source": [
    "# Part 3: Hydrology and Hydraulic Domain Specific"
   ]
  },
  {
   "cell_type": "markdown",
   "metadata": {
    "slideshow": {
     "slide_type": "slide"
    }
   },
   "source": [
    "# Modules useful for H&H\n",
    "\n",
    "|Module|Use|\n",
    "|:--|:--|\n",
    "|[**Pandas**](https://pandas.pydata.org/)|fast, powerful, data analysis and manipulation tool with time series support|\n",
    "|[**Numpy**](https://numpy.org/)|fundamental package for scientific computing, implements n-dimensional arrays|\n",
    "|[**Scipy**](https://www.scipy.org/scipylib/index.html)|fundamental package for scientific computing, does what Numpy does not|\n",
    "|[**Matplotlib**](https://matplotlib.org/)|standard python plotting library|\n",
    "|[**Plotly**](https://plotly.com/python/)|Premium plotting package|\n"
   ]
  },
  {
   "cell_type": "markdown",
   "metadata": {
    "slideshow": {
     "slide_type": "slide"
    }
   },
   "source": [
    "# Tips for Scripts\n",
    "- writing a script is like writing down a recipe\n",
    "    - ingredients = data\n",
    "    - tools = modules \n",
    "    - instructions = statements\n",
    "- **order of operations matters!**\n",
    "- write down your steps and plan it out on paper"
   ]
  },
  {
   "cell_type": "markdown",
   "metadata": {},
   "source": [
    "# Application: Flow Duration Curves\n"
   ]
  }
 ],
 "metadata": {
  "celltoolbar": "Slideshow",
  "kernelspec": {
   "display_name": "Python 3",
   "language": "python",
   "name": "python3"
  },
  "language_info": {
   "codemirror_mode": {
    "name": "ipython",
    "version": 3
   },
   "file_extension": ".py",
   "mimetype": "text/x-python",
   "name": "python",
   "nbconvert_exporter": "python",
   "pygments_lexer": "ipython3",
   "version": "3.7.2"
  }
 },
 "nbformat": 4,
 "nbformat_minor": 4
}
